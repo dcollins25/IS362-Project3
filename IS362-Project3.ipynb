{
 "cells": [
  {
   "cell_type": "code",
   "execution_count": 1,
   "id": "0f6ac251",
   "metadata": {},
   "outputs": [],
   "source": [
    "# Dan Collins - IS362 - Project3"
   ]
  },
  {
   "cell_type": "code",
   "execution_count": 13,
   "id": "81b69c69",
   "metadata": {},
   "outputs": [],
   "source": [
    "import sqlite3\n",
    "import pandas as pd\n",
    "import os"
   ]
  },
  {
   "cell_type": "code",
   "execution_count": 14,
   "id": "81c65f59",
   "metadata": {},
   "outputs": [],
   "source": [
    "new_directory = r'C:\\Users\\dmcol\\Documents\\GitWork\\IS362-Project3'"
   ]
  },
  {
   "cell_type": "code",
   "execution_count": 15,
   "id": "df3dadb9",
   "metadata": {},
   "outputs": [],
   "source": [
    "os.chdir(new_directory)"
   ]
  },
  {
   "cell_type": "code",
   "execution_count": 24,
   "id": "c8539bf0",
   "metadata": {},
   "outputs": [],
   "source": [
    "conn = sqlite3.connect(\"chinook.db\")"
   ]
  },
  {
   "cell_type": "code",
   "execution_count": 17,
   "id": "1d5438d5",
   "metadata": {},
   "outputs": [],
   "source": [
    "# SQL query to extract the required data"
   ]
  },
  {
   "cell_type": "code",
   "execution_count": 18,
   "id": "3605be3e",
   "metadata": {},
   "outputs": [],
   "source": [
    "query = \"\"\"\n",
    "SELECT c.LastName, c.FirstName, t.Name AS \"Track Name\", a.Title AS \"Album Title\"\n",
    "FROM customers AS c\n",
    "JOIN invoices AS i ON c.CustomerId = i.CustomerId\n",
    "JOIN invoice_items AS ii ON i.InvoiceId = ii.InvoiceId\n",
    "JOIN tracks AS t ON ii.TrackId = t.TrackId\n",
    "JOIN albums AS a ON t.AlbumId = a.AlbumId\n",
    "\"\"\""
   ]
  },
  {
   "cell_type": "code",
   "execution_count": 19,
   "id": "83719e82",
   "metadata": {},
   "outputs": [],
   "source": [
    "# Execute the query and create a DataFrame"
   ]
  },
  {
   "cell_type": "code",
   "execution_count": 20,
   "id": "94271165",
   "metadata": {},
   "outputs": [],
   "source": [
    "df = pd.read_sql_query(query, conn)"
   ]
  },
  {
   "cell_type": "code",
   "execution_count": 21,
   "id": "cb2d9b8f",
   "metadata": {},
   "outputs": [],
   "source": [
    "# Display the DataFrame"
   ]
  },
  {
   "cell_type": "code",
   "execution_count": 22,
   "id": "6c595417",
   "metadata": {},
   "outputs": [
    {
     "name": "stdout",
     "output_type": "stream",
     "text": [
      "        LastName FirstName                     Track Name  \\\n",
      "0      Gonçalves      Luís            Experiment In Terra   \n",
      "1      Gonçalves      Luís              Take the Celestra   \n",
      "2      Gonçalves      Luís              Shout It Out Loud   \n",
      "3      Gonçalves      Luís               Calling Dr. Love   \n",
      "4      Gonçalves      Luís                       Strutter   \n",
      "...          ...       ...                            ...   \n",
      "2235  Srivastava      Puja           Esporrei Na Manivela   \n",
      "2236  Srivastava      Puja  No Fundo Do Quintal Da Escola   \n",
      "2237  Srivastava      Puja                 Que Luz É Essa   \n",
      "2238  Srivastava      Puja          The Power Of Equality   \n",
      "2239  Srivastava      Puja   Mellowship Slinky In B Major   \n",
      "\n",
      "                                   Album Title  \n",
      "0     Battlestar Galactica (Classic), Season 1  \n",
      "1     Battlestar Galactica (Classic), Season 1  \n",
      "2                                Greatest Kiss  \n",
      "3                                Greatest Kiss  \n",
      "4                                Greatest Kiss  \n",
      "...                                        ...  \n",
      "2235                              Cesta Básica  \n",
      "2236                               Raul Seixas  \n",
      "2237                               Raul Seixas  \n",
      "2238                     Blood Sugar Sex Magik  \n",
      "2239                     Blood Sugar Sex Magik  \n",
      "\n",
      "[2240 rows x 4 columns]\n"
     ]
    }
   ],
   "source": [
    "print(df)"
   ]
  },
  {
   "cell_type": "code",
   "execution_count": 23,
   "id": "1a43ca91",
   "metadata": {},
   "outputs": [],
   "source": [
    "conn.close()"
   ]
  }
 ],
 "metadata": {
  "kernelspec": {
   "display_name": "Python 3 (ipykernel)",
   "language": "python",
   "name": "python3"
  },
  "language_info": {
   "codemirror_mode": {
    "name": "ipython",
    "version": 3
   },
   "file_extension": ".py",
   "mimetype": "text/x-python",
   "name": "python",
   "nbconvert_exporter": "python",
   "pygments_lexer": "ipython3",
   "version": "3.9.13"
  }
 },
 "nbformat": 4,
 "nbformat_minor": 5
}
